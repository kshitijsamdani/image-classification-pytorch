{
  "nbformat": 4,
  "nbformat_minor": 0,
  "metadata": {
    "colab": {
      "provenance": [],
      "gpuType": "T4"
    },
    "kernelspec": {
      "name": "python3",
      "display_name": "Python 3"
    },
    "language_info": {
      "name": "python"
    },
    "accelerator": "GPU"
  },
  "cells": [
    {
      "cell_type": "markdown",
      "source": [
        "#Importing Libraries"
      ],
      "metadata": {
        "id": "R4wACxWe1faO"
      }
    },
    {
      "cell_type": "code",
      "execution_count": null,
      "metadata": {
        "id": "I66TQAQn0K_Y",
        "colab": {
          "base_uri": "https://localhost:8080/"
        },
        "outputId": "73bd6611-690a-4988-bc78-9951e5b59b8f"
      },
      "outputs": [
        {
          "output_type": "stream",
          "name": "stdout",
          "text": [
            "Using device: cuda\n"
          ]
        }
      ],
      "source": [
        "import torch                                                              #Core PyTorch Package\n",
        "import torch.nn as nn                                                     #Contains modules to build neural networks\n",
        "import torch.optim as optim                                               #has optimization algorithms\n",
        "import torchvision                                                        #Utilities for vision tasks like loading datasets, pretrained models\n",
        "import torchvision.transforms as transforms                               #Tools for preprocessing like resizing, normalization\n",
        "from torch.utils.data import DataLoader                                   #Batches, shuffles, and loads the data in parallel\n",
        "\n",
        "device = torch.device(\"cuda\" if torch.cuda.is_available() else \"cpu\")     #Set GPU for computation\n",
        "print(\"Using device:\",device)"
      ]
    },
    {
      "cell_type": "markdown",
      "source": [
        "#Data Loading and Preprocessing"
      ],
      "metadata": {
        "id": "nJOZkIVD3sln"
      }
    },
    {
      "cell_type": "code",
      "source": [
        "transform = transforms.Compose([                                           #Chains multiple transformations\n",
        "    transforms.ToTensor(),                                                 #Converts images from [0,255] PIL format of [0,1] tensors and rearranges the dimension from (H,W,C) to (C,H,W)\n",
        "    transforms.Normalize((0.5,0.5,0.5),(0.5,0.5,0.5))                      #Normalizes each channel using (x - mean)/std | shifts pixel range from [0,1] → [-1,1]\n",
        "])\n",
        "\n",
        "trainset = torchvision.datasets.CIFAR10(root='./data', train=True, download=True, transform=transform)\n",
        "testset = torchvision.datasets.CIFAR10(root='./data', train=False, download=True, transform=transform)\n",
        "\n",
        "trainloader = DataLoader(trainset, batch_size=64, shuffle=True)\n",
        "testloader = DataLoader(testset, batch_size=64, shuffle=False)"
      ],
      "metadata": {
        "colab": {
          "base_uri": "https://localhost:8080/"
        },
        "id": "Xo1YwgE11oyX",
        "outputId": "66ed2cd0-d791-430f-95a0-2c37d006fd52"
      },
      "execution_count": null,
      "outputs": [
        {
          "output_type": "stream",
          "name": "stderr",
          "text": [
            "100%|██████████| 170M/170M [00:04<00:00, 37.0MB/s]\n"
          ]
        }
      ]
    },
    {
      "cell_type": "markdown",
      "source": [
        "#Defining CNN architecture"
      ],
      "metadata": {
        "id": "qUgCgUlVB5ij"
      }
    },
    {
      "cell_type": "code",
      "source": [
        "class CNN(nn.Module):\n",
        "  def __init__(self):\n",
        "    super(CNN,self).__init__()\n",
        "    self.conv1 = nn.Conv2d(in_channels=3, out_channels = 6, kernel_size=5)\n",
        "    self.pool1 = nn.MaxPool2d(kernel_size=2, stride = 2)\n",
        "    self.conv2 = nn.Conv2d(in_channels=6, out_channels=16, kernel_size= 5)\n",
        "    self.pool2 = nn.MaxPool2d(kernel_size=2,stride=2)\n",
        "\n",
        "    self.fc1 = nn.Linear(16*5*5,120)\n",
        "    self.fc2 = nn.Linear(120,84)\n",
        "    self.fc3 = nn.Linear(84,10)\n",
        "    self.relu = nn.ReLU()\n",
        "    self.flatten = nn.Flatten()\n",
        "    # self.softmax = nn.Softmax()                            ##We don't add softmax activation because the cross entropy loss function expects direct logits.\n",
        "                                                             ## It adds softmax and log function to it\n",
        "\n",
        "  def forward(self,x):\n",
        "    x = self.conv1(x)\n",
        "    x = self.relu(x)\n",
        "    x = self.pool1(x)\n",
        "    x = self.conv2(x)\n",
        "    x = self.relu(x)\n",
        "    x = self.pool2(x)\n",
        "    x = self.flatten(x)\n",
        "    x = self.fc1(x)\n",
        "    x = self.relu(x)\n",
        "    x = self.fc2(x)\n",
        "    x = self.relu(x)\n",
        "    x = self.fc3(x)\n",
        "\n",
        "    return x\n",
        "\n",
        "cnn = CNN().to(device)"
      ],
      "metadata": {
        "id": "-u5jxoNnBQpa"
      },
      "execution_count": null,
      "outputs": []
    },
    {
      "cell_type": "markdown",
      "source": [
        "##Choosing Loss Function and Optimizer"
      ],
      "metadata": {
        "id": "h-swuQs6JTan"
      }
    },
    {
      "cell_type": "code",
      "source": [
        "loss_fn = nn.CrossEntropyLoss()\n",
        "optimizer = optim.SGD(cnn.parameters(), lr = 0.001, momentum = 0.9)"
      ],
      "metadata": {
        "id": "3-LsCGiJJZdl"
      },
      "execution_count": null,
      "outputs": []
    },
    {
      "cell_type": "markdown",
      "source": [
        "# W&B integration"
      ],
      "metadata": {
        "id": "0NPC7l0LTBWY"
      }
    },
    {
      "cell_type": "code",
      "source": [
        "!pip install wandb"
      ],
      "metadata": {
        "colab": {
          "base_uri": "https://localhost:8080/"
        },
        "id": "m2SEe-_7TD5R",
        "outputId": "f98b8b50-8577-4167-f8e9-2d3eefe18e27"
      },
      "execution_count": null,
      "outputs": [
        {
          "output_type": "stream",
          "name": "stdout",
          "text": [
            "Requirement already satisfied: wandb in /usr/local/lib/python3.11/dist-packages (0.20.1)\n",
            "Requirement already satisfied: click!=8.0.0,>=7.1 in /usr/local/lib/python3.11/dist-packages (from wandb) (8.2.1)\n",
            "Requirement already satisfied: gitpython!=3.1.29,>=1.0.0 in /usr/local/lib/python3.11/dist-packages (from wandb) (3.1.44)\n",
            "Requirement already satisfied: packaging in /usr/local/lib/python3.11/dist-packages (from wandb) (24.2)\n",
            "Requirement already satisfied: platformdirs in /usr/local/lib/python3.11/dist-packages (from wandb) (4.3.8)\n",
            "Requirement already satisfied: protobuf!=4.21.0,!=5.28.0,<7,>=3.19.0 in /usr/local/lib/python3.11/dist-packages (from wandb) (5.29.5)\n",
            "Requirement already satisfied: psutil>=5.0.0 in /usr/local/lib/python3.11/dist-packages (from wandb) (5.9.5)\n",
            "Requirement already satisfied: pydantic<3 in /usr/local/lib/python3.11/dist-packages (from wandb) (2.11.5)\n",
            "Requirement already satisfied: pyyaml in /usr/local/lib/python3.11/dist-packages (from wandb) (6.0.2)\n",
            "Requirement already satisfied: requests<3,>=2.0.0 in /usr/local/lib/python3.11/dist-packages (from wandb) (2.32.3)\n",
            "Requirement already satisfied: sentry-sdk>=2.0.0 in /usr/local/lib/python3.11/dist-packages (from wandb) (2.29.1)\n",
            "Requirement already satisfied: setproctitle in /usr/local/lib/python3.11/dist-packages (from wandb) (1.3.6)\n",
            "Requirement already satisfied: typing-extensions<5,>=4.8 in /usr/local/lib/python3.11/dist-packages (from wandb) (4.14.0)\n",
            "Requirement already satisfied: gitdb<5,>=4.0.1 in /usr/local/lib/python3.11/dist-packages (from gitpython!=3.1.29,>=1.0.0->wandb) (4.0.12)\n",
            "Requirement already satisfied: annotated-types>=0.6.0 in /usr/local/lib/python3.11/dist-packages (from pydantic<3->wandb) (0.7.0)\n",
            "Requirement already satisfied: pydantic-core==2.33.2 in /usr/local/lib/python3.11/dist-packages (from pydantic<3->wandb) (2.33.2)\n",
            "Requirement already satisfied: typing-inspection>=0.4.0 in /usr/local/lib/python3.11/dist-packages (from pydantic<3->wandb) (0.4.1)\n",
            "Requirement already satisfied: charset-normalizer<4,>=2 in /usr/local/lib/python3.11/dist-packages (from requests<3,>=2.0.0->wandb) (3.4.2)\n",
            "Requirement already satisfied: idna<4,>=2.5 in /usr/local/lib/python3.11/dist-packages (from requests<3,>=2.0.0->wandb) (3.10)\n",
            "Requirement already satisfied: urllib3<3,>=1.21.1 in /usr/local/lib/python3.11/dist-packages (from requests<3,>=2.0.0->wandb) (2.4.0)\n",
            "Requirement already satisfied: certifi>=2017.4.17 in /usr/local/lib/python3.11/dist-packages (from requests<3,>=2.0.0->wandb) (2025.4.26)\n",
            "Requirement already satisfied: smmap<6,>=3.0.1 in /usr/local/lib/python3.11/dist-packages (from gitdb<5,>=4.0.1->gitpython!=3.1.29,>=1.0.0->wandb) (5.0.2)\n"
          ]
        }
      ]
    },
    {
      "cell_type": "code",
      "source": [
        "!wandb login"
      ],
      "metadata": {
        "colab": {
          "base_uri": "https://localhost:8080/"
        },
        "id": "UuiMCvs4TG3C",
        "outputId": "e637c720-0eae-40e5-b6eb-860fcbd76236"
      },
      "execution_count": null,
      "outputs": [
        {
          "output_type": "stream",
          "name": "stdout",
          "text": [
            "\u001b[34m\u001b[1mwandb\u001b[0m: Logging into wandb.ai. (Learn how to deploy a W&B server locally: https://wandb.me/wandb-server)\n",
            "\u001b[34m\u001b[1mwandb\u001b[0m: You can find your API key in your browser here: https://wandb.ai/authorize?ref=models\n",
            "\u001b[34m\u001b[1mwandb\u001b[0m: Paste an API key from your profile and hit enter, or press ctrl+c to quit: \n",
            "\u001b[34m\u001b[1mwandb\u001b[0m: No netrc file found, creating one.\n",
            "\u001b[34m\u001b[1mwandb\u001b[0m: Appending key for api.wandb.ai to your netrc file: /root/.netrc\n",
            "\u001b[34m\u001b[1mwandb\u001b[0m: Currently logged in as: \u001b[33msamdanikshitij21\u001b[0m (\u001b[33msamdanikshitij21-indian-institute-of-technology-delhi\u001b[0m) to \u001b[32mhttps://api.wandb.ai\u001b[0m. Use \u001b[1m`wandb login --relogin`\u001b[0m to force relogin\n"
          ]
        }
      ]
    },
    {
      "cell_type": "code",
      "source": [
        "import wandb"
      ],
      "metadata": {
        "id": "BRsNnEVUUrdF"
      },
      "execution_count": null,
      "outputs": []
    },
    {
      "cell_type": "code",
      "source": [
        "import yaml\n",
        "\n",
        "with open(\"config.yaml\") as f:\n",
        "    config = yaml.safe_load(f)\n",
        "\n",
        "wandb.init(project=\"basic_cnn\", config=config)"
      ],
      "metadata": {
        "colab": {
          "base_uri": "https://localhost:8080/",
          "height": 611
        },
        "id": "ax0wQzk9gYlw",
        "outputId": "1a34127a-f40d-478d-caf5-a15d1dffbdce"
      },
      "execution_count": null,
      "outputs": [
        {
          "output_type": "display_data",
          "data": {
            "text/plain": [
              "<IPython.core.display.HTML object>"
            ],
            "text/html": [
              "Finishing previous runs because reinit is set to 'default'."
            ]
          },
          "metadata": {}
        },
        {
          "output_type": "display_data",
          "data": {
            "text/plain": [
              "<IPython.core.display.HTML object>"
            ],
            "text/html": []
          },
          "metadata": {}
        },
        {
          "output_type": "display_data",
          "data": {
            "text/plain": [
              "<IPython.core.display.HTML object>"
            ],
            "text/html": [
              " View run <strong style=\"color:#cdcd00\">stellar-disco-1</strong> at: <a href='https://wandb.ai/samdanikshitij21-indian-institute-of-technology-delhi/basic_cnn/runs/0y57p75c' target=\"_blank\">https://wandb.ai/samdanikshitij21-indian-institute-of-technology-delhi/basic_cnn/runs/0y57p75c</a><br> View project at: <a href='https://wandb.ai/samdanikshitij21-indian-institute-of-technology-delhi/basic_cnn' target=\"_blank\">https://wandb.ai/samdanikshitij21-indian-institute-of-technology-delhi/basic_cnn</a><br>Synced 5 W&B file(s), 0 media file(s), 0 artifact file(s) and 0 other file(s)"
            ]
          },
          "metadata": {}
        },
        {
          "output_type": "display_data",
          "data": {
            "text/plain": [
              "<IPython.core.display.HTML object>"
            ],
            "text/html": [
              "Find logs at: <code>./wandb/run-20250618_144835-0y57p75c/logs</code>"
            ]
          },
          "metadata": {}
        },
        {
          "output_type": "display_data",
          "data": {
            "text/plain": [
              "<IPython.core.display.HTML object>"
            ],
            "text/html": [
              "Tracking run with wandb version 0.20.1"
            ]
          },
          "metadata": {}
        },
        {
          "output_type": "display_data",
          "data": {
            "text/plain": [
              "<IPython.core.display.HTML object>"
            ],
            "text/html": [
              "Run data is saved locally in <code>/content/wandb/run-20250618_145045-m62x2tyc</code>"
            ]
          },
          "metadata": {}
        },
        {
          "output_type": "display_data",
          "data": {
            "text/plain": [
              "<IPython.core.display.HTML object>"
            ],
            "text/html": [
              "Syncing run <strong><a href='https://wandb.ai/samdanikshitij21-indian-institute-of-technology-delhi/basic_cnn/runs/m62x2tyc' target=\"_blank\">fresh-disco-2</a></strong> to <a href='https://wandb.ai/samdanikshitij21-indian-institute-of-technology-delhi/basic_cnn' target=\"_blank\">Weights & Biases</a> (<a href='https://wandb.me/developer-guide' target=\"_blank\">docs</a>)<br>"
            ]
          },
          "metadata": {}
        },
        {
          "output_type": "display_data",
          "data": {
            "text/plain": [
              "<IPython.core.display.HTML object>"
            ],
            "text/html": [
              " View project at <a href='https://wandb.ai/samdanikshitij21-indian-institute-of-technology-delhi/basic_cnn' target=\"_blank\">https://wandb.ai/samdanikshitij21-indian-institute-of-technology-delhi/basic_cnn</a>"
            ]
          },
          "metadata": {}
        },
        {
          "output_type": "display_data",
          "data": {
            "text/plain": [
              "<IPython.core.display.HTML object>"
            ],
            "text/html": [
              " View run at <a href='https://wandb.ai/samdanikshitij21-indian-institute-of-technology-delhi/basic_cnn/runs/m62x2tyc' target=\"_blank\">https://wandb.ai/samdanikshitij21-indian-institute-of-technology-delhi/basic_cnn/runs/m62x2tyc</a>"
            ]
          },
          "metadata": {}
        },
        {
          "output_type": "execute_result",
          "data": {
            "text/html": [
              "<button onClick=\"this.nextSibling.style.display='block';this.style.display='none';\">Display W&B run</button><iframe src='https://wandb.ai/samdanikshitij21-indian-institute-of-technology-delhi/basic_cnn/runs/m62x2tyc?jupyter=true' style='border:none;width:100%;height:420px;display:none;'></iframe>"
            ],
            "text/plain": [
              "<wandb.sdk.wandb_run.Run at 0x78ca20899510>"
            ]
          },
          "metadata": {},
          "execution_count": 12
        }
      ]
    },
    {
      "cell_type": "code",
      "source": [
        "# wandb.init(\n",
        "#     project=\"basic_cnn\",     # name of the project\n",
        "#     config={\n",
        "#         \"epochs\": 30,\n",
        "#         \"batch_size\": 64,\n",
        "#         \"learning_rate\": 0.001,\n",
        "#         \"momentum\": 0.9,\n",
        "#         \"optimizer\": \"SGD\"\n",
        "#         \"criterion\": \"cross_entropy\"\n",
        "#         \"architecture\": \"CNN\"\n",
        "#     }\n",
        "# )"
      ],
      "metadata": {
        "id": "FJwR3JGoUu6f"
      },
      "execution_count": null,
      "outputs": []
    },
    {
      "cell_type": "markdown",
      "source": [
        "#Training"
      ],
      "metadata": {
        "id": "hs3pgyhvIrKO"
      }
    },
    {
      "cell_type": "code",
      "source": [
        "def train(model, dataloader, criterion, optimize,epochs):\n",
        "  model.train()\n",
        "  for epoch in range(epochs):\n",
        "    total_loss = 0\n",
        "    correct_pred = 0\n",
        "    total_pred = 0\n",
        "\n",
        "    for images,labels in dataloader:\n",
        "      images,labels = images.to(device), labels.to(device)\n",
        "\n",
        "      outputs = model(images)         ##also called logits\n",
        "\n",
        "      optimize.zero_grad()\n",
        "      loss = criterion(outputs,labels)\n",
        "      loss.backward()\n",
        "      optimize.step()\n",
        "\n",
        "      total_loss += loss.item()*images.size(0)\n",
        "\n",
        "      _,predicted = torch.max(outputs, dim = 1)\n",
        "      correct_pred += (predicted==labels).sum().item()\n",
        "      total_pred += labels.size(0)\n",
        "      accuracy = correct_pred/total_pred\n",
        "      wandb.log({\"batch_loss\": loss.item()*images.size(0), \"accuracy\":accuracy, \"epoch\": epoch})\n",
        "\n",
        "    total_epoch_loss = total_loss/total_pred\n",
        "    epoch_accuracy = correct_pred/total_pred\n",
        "    wandb.log({\"train_loss\": total_epoch_loss, \"epoch\": epoch})\n",
        "    print(f\"Epoch {epoch + 1}, Loss: {total_epoch_loss}, Accuracy: {epoch_accuracy:.4f}\")"
      ],
      "metadata": {
        "id": "LWL8Adl5IiSS"
      },
      "execution_count": null,
      "outputs": []
    },
    {
      "cell_type": "code",
      "source": [
        "train(cnn,trainloader,loss_fn,optimizer,wandb.config.epochs)"
      ],
      "metadata": {
        "colab": {
          "base_uri": "https://localhost:8080/"
        },
        "id": "WRKz7vxIMBNs",
        "outputId": "a6433a80-e797-4ffd-a1ee-184db4cd1374"
      },
      "execution_count": null,
      "outputs": [
        {
          "output_type": "stream",
          "name": "stdout",
          "text": [
            "Epoch 1, Loss: 2.296700517425537, Accuracy: 0.1278\n",
            "Epoch 2, Loss: 2.172718389968872, Accuracy: 0.2237\n",
            "Epoch 3, Loss: 1.9858435398101806, Accuracy: 0.2974\n",
            "Epoch 4, Loss: 1.7925050327301026, Accuracy: 0.3515\n",
            "Epoch 5, Loss: 1.6373164974594117, Accuracy: 0.4042\n",
            "Epoch 6, Loss: 1.5355887184524537, Accuracy: 0.4423\n",
            "Epoch 7, Loss: 1.4703206390380859, Accuracy: 0.4657\n",
            "Epoch 8, Loss: 1.417445563659668, Accuracy: 0.4883\n",
            "Epoch 9, Loss: 1.365724368019104, Accuracy: 0.5088\n",
            "Epoch 10, Loss: 1.3205928610229491, Accuracy: 0.5279\n",
            "Epoch 11, Loss: 1.2795629123306274, Accuracy: 0.5440\n",
            "Epoch 12, Loss: 1.2397749897766113, Accuracy: 0.5587\n",
            "Epoch 13, Loss: 1.2121686199188233, Accuracy: 0.5693\n",
            "Epoch 14, Loss: 1.180049778442383, Accuracy: 0.5797\n",
            "Epoch 15, Loss: 1.148559942970276, Accuracy: 0.5917\n",
            "Epoch 16, Loss: 1.121880997390747, Accuracy: 0.6017\n",
            "Epoch 17, Loss: 1.099302931137085, Accuracy: 0.6106\n",
            "Epoch 18, Loss: 1.0746346551513672, Accuracy: 0.6201\n",
            "Epoch 19, Loss: 1.055187281780243, Accuracy: 0.6257\n",
            "Epoch 20, Loss: 1.0339016232681275, Accuracy: 0.6341\n",
            "Epoch 21, Loss: 1.015074494304657, Accuracy: 0.6423\n",
            "Epoch 22, Loss: 0.9956043904685974, Accuracy: 0.6507\n",
            "Epoch 23, Loss: 0.9773737063217163, Accuracy: 0.6567\n",
            "Epoch 24, Loss: 0.9573636523246765, Accuracy: 0.6656\n",
            "Epoch 25, Loss: 0.9411595065116882, Accuracy: 0.6700\n"
          ]
        }
      ]
    },
    {
      "cell_type": "code",
      "source": [
        "def evaluate(model,dataloader,criterion):\n",
        "  model.eval()\n",
        "  test_loss = 0\n",
        "  correct_pred = 0\n",
        "  total_pred = 0\n",
        "\n",
        "  with torch.no_grad():\n",
        "    for images,labels in dataloader:\n",
        "      images,labels = images.to(device), labels.to(device)   ##labels.shape = [B]\n",
        "\n",
        "      outputs = model(images)\n",
        "\n",
        "      loss = criterion(outputs,labels)\n",
        "\n",
        "      test_loss += loss.item()*images.size(0)     ##loss.item() gives the scalar value of loss tensor\n",
        "\n",
        "      _,predicted = torch.max(outputs, dim = 1)   ##outputs.shape = [B,10]\n",
        "      correct_pred += (predicted==labels).sum().item()  ##predicted.shape = [B]\n",
        "      total_pred += labels.size(0)\n",
        "\n",
        "  test_loss /= total_pred\n",
        "  test_acc = correct_pred/total_pred\n",
        "  wandb.log({\"val_loss\": test_loss, \"val_acc\": test_acc})\n",
        "  return test_loss, test_acc"
      ],
      "metadata": {
        "id": "NRfsD6leMa_4"
      },
      "execution_count": null,
      "outputs": []
    },
    {
      "cell_type": "code",
      "source": [
        "val_loss,val_accuracy = evaluate(cnn,testloader,loss_fn)\n",
        "print('Accuracy:', val_accuracy)"
      ],
      "metadata": {
        "colab": {
          "base_uri": "https://localhost:8080/"
        },
        "id": "0g87Vu-HQWpU",
        "outputId": "8fb84795-6045-4213-fefe-6d23fd77fc8b"
      },
      "execution_count": null,
      "outputs": [
        {
          "output_type": "stream",
          "name": "stdout",
          "text": [
            "Accuracy: 0.6311\n"
          ]
        }
      ]
    }
  ]
}